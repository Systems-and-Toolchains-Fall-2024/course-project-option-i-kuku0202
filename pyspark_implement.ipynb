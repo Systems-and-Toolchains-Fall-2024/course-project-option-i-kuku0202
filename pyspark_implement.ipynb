{
 "cells": [
  {
   "cell_type": "code",
   "execution_count": 1,
   "metadata": {},
   "outputs": [
    {
     "name": "stderr",
     "output_type": "stream",
     "text": [
      "C:\\spark\\spark-3.5.3-bin-hadoop3\\python\\pyspark\\sql\\context.py:113: FutureWarning: Deprecated in 3.0.0. Use SparkSession.builder.getOrCreate() instead.\n",
      "  warnings.warn(\n"
     ]
    }
   ],
   "source": [
    "import findspark\n",
    "findspark.init()\n",
    "findspark.find()\n",
    "\n",
    "import pyspark\n",
    "\n",
    "from pyspark.sql import SparkSession\n",
    "from pyspark import SparkContext, SQLContext\n",
    "\n",
    "properties = {\n",
    "    'username': 'postgres',\n",
    "    'password': '20020202',\n",
    "    'url': \"jdbc:postgresql://localhost:5432/postgres\",\n",
    "    'table': 'fifa.player_data',\n",
    "    'driver': 'org.postgresql.Driver'\n",
    "}\n",
    "\n",
    "def write_to_pgadmin(df, mode='overwrite'):\n",
    "    df.write.format('jdbc').mode(mode)\\\n",
    "        .option(\"url\", properties['url'])\\\n",
    "        .option(\"dbtable\", properties['table'])\\\n",
    "        .option(\"user\", properties['username'])\\\n",
    "        .option(\"password\", properties['password'])\\\n",
    "        .option(\"Driver\", properties['driver'])\\\n",
    "        .save()\n",
    "\n",
    "def read_from_pgadmin():\n",
    "    return spark.read.format(\"jdbc\")\\\n",
    "        .option(\"url\", properties['url'])\\\n",
    "        .option(\"dbtable\", properties['table'])\\\n",
    "        .option(\"user\", properties['username'])\\\n",
    "        .option(\"password\", properties['password'])\\\n",
    "        .option(\"Driver\", properties['driver'])\\\n",
    "        .load()\n",
    "\n",
    "appName = \"Big Data Analytics\"\n",
    "master = \"local\"\n",
    "\n",
    "# Create Configuration object for Spark.\n",
    "conf = pyspark.SparkConf()\\\n",
    "    .set('spark.driver.host','127.0.0.1')\\\n",
    "    .set('spark.jars.packages', 'org.postgresql:postgresql:42.7.0')\\\n",
    "    .setAppName(appName)\\\n",
    "    .setMaster(master)\n",
    "\n",
    "# conf = pyspark.SparkConf().\\\n",
    "#     set('spark.jars.packages', 'org.postgresql:postgresql:42.7.0')\\\n",
    "#     .setAppName(appName).setMaster(master)\n",
    "\n",
    "# Create Spark Context with the new configurations rather than relying on the default one\n",
    "sc = SparkContext.getOrCreate(conf=conf)\n",
    "\n",
    "# You need to create SQL Context to conduct some database operations like what we will see later.\n",
    "sqlContext = SQLContext(sc)\n",
    "\n",
    "# If you have SQL context, you create the session from the Spark Context\n",
    "spark = sqlContext.sparkSession.builder.getOrCreate()"
   ]
  },
  {
   "cell_type": "code",
   "execution_count": 3,
   "metadata": {},
   "outputs": [
    {
     "name": "stdout",
     "output_type": "stream",
     "text": [
      "+-------+---+---------+---------+---------+-----------+------------------------+-------------+----------------+---------+----+--------+-------+---------+---------+------+------------------+-------------------+--------------------------+-----------------------+-----------------+---------------+-----------+-----------------+------------------+------------------+---------------------+---------------------+----------------+------------------+----------------+----------------+-------------+-------------+--------------+----------------+--------------------+-----------------------+---------------------+----------------+-------------------+---------------------------+-------------------------+------------------------+------------------+--------------------+-------------------+-----------------------+--------------------+----+----+----+----+----+----+----+----+----+----+----+----+----+----+----+----+----+----+----+----+----+----+----+----+----+----+----+-----------------+\n",
      "|overall|age|height_cm|weight_kg|weak_foot|skill_moves|international_reputation|    work_rate|       body_type|real_face|pace|shooting|passing|dribbling|defending|physic|attacking_crossing|attacking_finishing|attacking_heading_accuracy|attacking_short_passing|attacking_volleys|skill_dribbling|skill_curve|skill_fk_accuracy|skill_long_passing|skill_ball_control|movement_acceleration|movement_sprint_speed|movement_agility|movement_reactions|movement_balance|power_shot_power|power_jumping|power_stamina|power_strength|power_long_shots|mentality_aggression|mentality_interceptions|mentality_positioning|mentality_vision|mentality_penalties|defending_marking_awareness|defending_standing_tackle|defending_sliding_tackle|goalkeeping_diving|goalkeeping_handling|goalkeeping_kicking|goalkeeping_positioning|goalkeeping_reflexes|  ls|  st|  rs|  lw|  lf|  cf|  rf|  rw| lam| cam| ram|  lm| lcm|  cm| rcm|  rm| lwb| ldm| cdm| rdm| rwb|  lb| lcb|  cb| rcb|  rb|  gk|prefer_right_foot|\n",
      "+-------+---+---------+---------+---------+-----------+------------------------+-------------+----------------+---------+----+--------+-------+---------+---------+------+------------------+-------------------+--------------------------+-----------------------+-----------------+---------------+-----------+-----------------+------------------+------------------+---------------------+---------------------+----------------+------------------+----------------+----------------+-------------+-------------+--------------+----------------+--------------------+-----------------------+---------------------+----------------+-------------------+---------------------------+-------------------------+------------------------+------------------+--------------------+-------------------+-----------------------+--------------------+----+----+----+----+----+----+----+----+----+----+----+----+----+----+----+----+----+----+----+----+----+----+----+----+----+----+----+-----------------+\n",
      "|     94| 28|      170|       72|        4|          4|                       5|   Medium/Low|          Unique|      Yes|  92|      88|     86|       95|       24|    62|                80|                 93|                        71|                     88|               85|             96|         89|               90|                79|                96|                   95|                   90|              92|                92|              95|              80|           68|           76|            59|              88|                  48|                     22|                   90|              90|                 74|                         13|                       23|                      21|                 6|                  11|                 15|                     14|                   8|87.0|87.0|87.0|91.0|91.0|91.0|91.0|91.0|91.0|91.0|91.0|90.0|82.0|82.0|82.0|90.0|62.0|57.0|57.0|57.0|62.0|57.0|44.0|44.0|44.0|57.0|19.0|               No|\n",
      "|     93| 30|      185|       80|        4|          5|                       5|     High/Low|          Unique|      Yes|  92|      93|     80|       91|       33|    78|                82|                 95|                        86|                     81|               87|             93|         88|               77|                72|                91|                   91|                   93|              90|                92|              62|              94|           94|           87|            79|              93|                  62|                     29|                   93|              81|                 85|                         22|                       31|                      23|                 7|                  11|                 15|                     14|                  11|91.0|91.0|91.0|90.0|91.0|91.0|91.0|90.0|88.0|88.0|88.0|88.0|80.0|80.0|80.0|88.0|64.0|60.0|60.0|60.0|64.0|60.0|52.0|52.0|52.0|60.0|20.0|              Yes|\n",
      "|     90| 31|      180|       80|        2|          4|                       5|     High/Low|Normal (170-185)|      Yes|  92|      86|     82|       92|       32|    64|                80|                 85|                        51|                     85|               86|             93|         86|               83|                74|                90|                   92|                   92|              91|                91|              91|              86|           61|           76|            65|              90|                  47|                     39|                   89|              84|                 80|                         29|                       26|                      26|                10|                   8|                 11|                      5|                  15|84.0|84.0|84.0|89.0|88.0|88.0|88.0|89.0|88.0|88.0|88.0|87.0|80.0|80.0|80.0|87.0|65.0|60.0|60.0|60.0|65.0|59.0|47.0|47.0|47.0|59.0|19.0|               No|\n",
      "|     90| 29|      193|       92|        4|          1|                       5|Medium/Medium|   Normal (185+)|      Yes|  69|      54|     58|       63|       56|    66|                15|                 13|                        25|                     48|               11|             16|         14|               11|                47|                31|                   58|                   61|              43|                88|              35|              25|           78|           44|            83|              16|                  29|                     30|                   12|              70|                 37|                         10|                       10|                      11|                85|                  87|                 91|                     90|                  86|33.0|33.0|33.0|35.0|36.0|36.0|36.0|35.0|40.0|40.0|40.0|38.0|42.0|42.0|42.0|38.0|33.0|38.0|38.0|38.0|33.0|33.0|33.0|33.0|33.0|33.0|87.0|              Yes|\n",
      "|     90| 28|      182|       85|        4|          4|                       5|  High/Medium|Normal (170-185)|      Yes|  83|      88|     79|       87|       42|    79|                77|                 90|                        77|                     82|               87|             88|         86|               84|                64|                91|                   88|                   78|              86|                91|              60|              88|           69|           86|            76|              85|                  78|                     41|                   91|              84|                 85|                         30|                       45|                      38|                27|                  25|                 31|                     33|                  37|87.0|87.0|87.0|87.0|88.0|88.0|88.0|87.0|86.0|86.0|86.0|85.0|79.0|79.0|79.0|85.0|67.0|65.0|65.0|65.0|67.0|64.0|58.0|58.0|58.0|64.0|37.0|              Yes|\n",
      "+-------+---+---------+---------+---------+-----------+------------------------+-------------+----------------+---------+----+--------+-------+---------+---------+------+------------------+-------------------+--------------------------+-----------------------+-----------------+---------------+-----------+-----------------+------------------+------------------+---------------------+---------------------+----------------+------------------+----------------+----------------+-------------+-------------+--------------+----------------+--------------------+-----------------------+---------------------+----------------+-------------------+---------------------------+-------------------------+------------------------+------------------+--------------------+-------------------+-----------------------+--------------------+----+----+----+----+----+----+----+----+----+----+----+----+----+----+----+----+----+----+----+----+----+----+----+----+----+----+----+-----------------+\n",
      "only showing top 5 rows\n",
      "\n"
     ]
    }
   ],
   "source": [
    "# from preprocess import *\n",
    "# df = read_from_pgadmin()\n",
    "# preprocess_pipeline = get_preprocess_pipeline()\n",
    "# preprocess_pipeline_model = preprocess_pipeline.fit(df)\n",
    "# df_processed = preprocess_pipeline_model.transform(df)\n",
    "\n",
    "from preprocess import *\n",
    "properties['table'] = 'fifa.clean_data'\n",
    "df_new = read_from_pgadmin()\n",
    "df_new.show(5)\n",
    "preprocess_pipeline = get_preprocess_pipeline()\n",
    "preprocess_pipeline_model = preprocess_pipeline.fit(df_new)\n",
    "df_processed = preprocess_pipeline_model.transform(df_new)"
   ]
  },
  {
   "cell_type": "code",
   "execution_count": 16,
   "metadata": {},
   "outputs": [
    {
     "name": "stdout",
     "output_type": "stream",
     "text": [
      "+-------+--------------------+\n",
      "|outcome|            features|\n",
      "+-------+--------------------+\n",
      "|   94.0|[6.00629302994062...|\n",
      "|   93.0|[6.43531396065066...|\n",
      "|   90.0|[6.64982442600569...|\n",
      "|   90.0|[6.22080349529564...|\n",
      "|   90.0|[6.00629302994062...|\n",
      "+-------+--------------------+\n",
      "only showing top 5 rows\n",
      "\n"
     ]
    }
   ],
   "source": [
    "df_processed.show(5)"
   ]
  },
  {
   "cell_type": "code",
   "execution_count": 5,
   "metadata": {},
   "outputs": [],
   "source": [
    "train_df, test_df = df_processed.randomSplit([0.8, 0.2], seed=42)"
   ]
  },
  {
   "cell_type": "code",
   "execution_count": 7,
   "metadata": {},
   "outputs": [
    {
     "name": "stdout",
     "output_type": "stream",
     "text": [
      "Best Model Test RMSE: 2.5087356589009353\n",
      "Best Model Parameters: regParam=0.1, elasticNetParam=0.0, maxIter=100\n"
     ]
    }
   ],
   "source": [
    "from pyspark.ml.tuning import ParamGridBuilder, CrossValidator\n",
    "from pyspark.ml.regression import LinearRegression\n",
    "from pyspark.ml.evaluation import RegressionEvaluator\n",
    "\n",
    "lr = LinearRegression(featuresCol='features', labelCol='outcome')\n",
    "evaluator = RegressionEvaluator(metricName=\"rmse\", labelCol=\"outcome\", predictionCol=\"prediction\")\n",
    "\n",
    "# Set up parameter grid\n",
    "param_grid = ParamGridBuilder() \\\n",
    "    .addGrid(lr.regParam, [0.1, 0.5]) \\\n",
    "    .addGrid(lr.elasticNetParam, [0.0, 0.5, 1.0]) \\\n",
    "    .build()\n",
    "\n",
    "cross_validator = CrossValidator(estimator=lr,\n",
    "                                 estimatorParamMaps=param_grid,\n",
    "                                 evaluator=evaluator,\n",
    "                                 numFolds=5)\n",
    "\n",
    "lr_cv_model = cross_validator.fit(train_df)\n",
    "\n",
    "# # Get the best model\n",
    "# lr_best_model = lr_cv_model.bestModel\n",
    "\n",
    "# # Evaluate the best model on the test set\n",
    "# predictions = lr_best_model.transform(test_df)\n",
    "# rmse = evaluator.evaluate(predictions)\n",
    "# print(f\"Best Model Test RMSE: {rmse}\")\n",
    "# print(f\"Best Model Parameters: regParam={lr_best_model._java_obj.getRegParam()}, elasticNetParam={lr_best_model._java_obj.getElasticNetParam()}, maxIter={lr_best_model._java_obj.getMaxIter()}\")"
   ]
  },
  {
   "cell_type": "code",
   "execution_count": 17,
   "metadata": {},
   "outputs": [
    {
     "name": "stdout",
     "output_type": "stream",
     "text": [
      "Best Model Test RMSE: 2.5087356589009353\n",
      "Best Model Parameters: regParam=0.1, elasticNetParam=0.0, maxIter=100\n"
     ]
    }
   ],
   "source": [
    "lr_best_model = lr_cv_model.bestModel\n",
    "\n",
    "# Evaluate the best model on the test set\n",
    "predictions = lr_best_model.transform(test_df)\n",
    "rmse = evaluator.evaluate(predictions)\n",
    "print(f\"Best Model Test RMSE: {rmse}\")\n",
    "print(f\"Best Model Parameters: regParam={lr_best_model._java_obj.getRegParam()}, elasticNetParam={lr_best_model._java_obj.getElasticNetParam()}, maxIter={lr_best_model._java_obj.getMaxIter()}\")\n",
    "\n"
   ]
  },
  {
   "cell_type": "code",
   "execution_count": 14,
   "metadata": {},
   "outputs": [],
   "source": [
    "from pyspark.ml.regression import GBTRegressor\n",
    "\n",
    "gbt = GBTRegressor(featuresCol=\"features\", labelCol=\"outcome\")\n",
    "evaluator = RegressionEvaluator(metricName=\"rmse\", labelCol=\"outcome\", predictionCol=\"prediction\")\n",
    "\n",
    "paramGrid = ParamGridBuilder() \\\n",
    "    .addGrid(gbt.maxDepth, [2, 5, 10]) \\\n",
    "    .addGrid(gbt.maxIter, [10, 20, 50]) \\\n",
    "    .addGrid(gbt.stepSize, [0.1, 0.2, 0.3]) \\\n",
    "    .build()\n",
    "\n",
    "cross_validator = CrossValidator(estimator=gbt,\n",
    "                                 estimatorParamMaps=param_grid,\n",
    "                                 evaluator=evaluator,\n",
    "                                 numFolds=5)\n",
    "\n",
    "gbt_cv_model = cross_validator.fit(train_df)\n",
    "\n",
    "# # Get the best model\n",
    "# gbt_best_model = gbt_cv_model.bestModel\n",
    "\n",
    "# # Evaluate the best model on the test set\n",
    "# predictions = gbt_best_model.transform(test_df)\n",
    "# rmse = evaluator.evaluate(predictions)\n",
    "# print(f\"Best Model Test RMSE: {rmse}\")\n",
    "# print(f\"Best Model Parameters: maxDepth={gbt_best_model._java_obj.getMaxDepth()}, maxIter={gbt_best_model._java_obj.getMaxIter()}, stepSize={gbt_best_model._java_obj.getStepSize()}\")"
   ]
  },
  {
   "cell_type": "code",
   "execution_count": 18,
   "metadata": {},
   "outputs": [
    {
     "name": "stdout",
     "output_type": "stream",
     "text": [
      "Best Model Test RMSE: 1.6506834424683523\n",
      "Best Model Parameters: maxDepth=5, maxIter=20, stepSize=0.1\n"
     ]
    }
   ],
   "source": [
    "# Get the best model\n",
    "gbt_best_model = gbt_cv_model.bestModel\n",
    "\n",
    "# Evaluate the best model on the test set\n",
    "predictions = gbt_best_model.transform(test_df)\n",
    "rmse = evaluator.evaluate(predictions)\n",
    "print(f\"Best Model Test RMSE: {rmse}\")\n",
    "print(f\"Best Model Parameters: maxDepth={gbt_best_model._java_obj.getMaxDepth()}, maxIter={gbt_best_model._java_obj.getMaxIter()}, stepSize={gbt_best_model._java_obj.getStepSize()}\")"
   ]
  },
  {
   "cell_type": "code",
   "execution_count": null,
   "metadata": {},
   "outputs": [],
   "source": []
  }
 ],
 "metadata": {
  "kernelspec": {
   "display_name": "Python 3",
   "language": "python",
   "name": "python3"
  },
  "language_info": {
   "codemirror_mode": {
    "name": "ipython",
    "version": 3
   },
   "file_extension": ".py",
   "mimetype": "text/x-python",
   "name": "python",
   "nbconvert_exporter": "python",
   "pygments_lexer": "ipython3",
   "version": "3.11.0"
  }
 },
 "nbformat": 4,
 "nbformat_minor": 2
}
